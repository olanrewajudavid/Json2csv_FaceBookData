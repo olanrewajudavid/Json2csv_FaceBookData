{
 "cells": [
  {
   "cell_type": "code",
   "execution_count": null,
   "id": "a46d9eaa",
   "metadata": {},
   "outputs": [],
   "source": [
    "# Convert facebook json data to csv readable format\n",
    "import pandas as pd \n",
    "import json \n",
    "import os\n",
    "\n",
    "#Firstly, download your data from your facebook profile\n",
    "\n",
    "# Specify the path to the \"inbox\" folder\n",
    "inbox_path = r'C:\\Users\\......\\your_facebook_activity\\messages\\inbox' # this is folder path\n",
    "\n",
    "# Create an empty list to store the messages\n",
    "messages = []\n",
    "\n",
    "# Loop through the subfolders in the \"messages\" folder\n",
    "for folder_name in os.listdir (inbox_path):\n",
    "    folder_path = os.path.join(inbox_path, folder_name)\n",
    "    \n",
    "    # Check if the subfoldon cointains the message_1.json file\n",
    "    json_file_path = os.path.join(folder_path, 'message_1.json')\n",
    "    if os.path.isfile(json_file_path):\n",
    "        # Open and process the JSON file \n",
    "        with open(json_file_path) as file: \n",
    "            data = json.load(file)\n",
    "            \n",
    "    if \"messages\" in data:\n",
    "        messages += (data[\"messages\"])\n",
    "    else:\n",
    "        messages += \"\"\n",
    "\n",
    "df = pd.DataFrame(messages)\n",
    "print(df.head)\n",
    "\n",
    "# Find column names\n",
    "columns_list = df.columns.tolist()\n",
    "#print(\"List of columns: \") \n",
    "print(columns_list)"
   ]
  }
 ],
 "metadata": {
  "kernelspec": {
   "display_name": "Python 3 (ipykernel)",
   "language": "python",
   "name": "python3"
  },
  "language_info": {
   "codemirror_mode": {
    "name": "ipython",
    "version": 3
   },
   "file_extension": ".py",
   "mimetype": "text/x-python",
   "name": "python",
   "nbconvert_exporter": "python",
   "pygments_lexer": "ipython3",
   "version": "3.11.5"
  }
 },
 "nbformat": 4,
 "nbformat_minor": 5
}
